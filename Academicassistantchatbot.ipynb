{
 "cells": [
  {
   "cell_type": "code",
   "execution_count": 11,
   "id": "5ec3ee0b-65e3-4489-9a8f-7c82a0d20dd8",
   "metadata": {},
   "outputs": [
    {
     "name": "stderr",
     "output_type": "stream",
     "text": [
      "[nltk_data] Downloading package punkt to\n",
      "[nltk_data]     C:\\Users\\User\\AppData\\Roaming\\nltk_data...\n",
      "[nltk_data]   Package punkt is already up-to-date!\n",
      "[nltk_data] Downloading package wordnet to\n",
      "[nltk_data]     C:\\Users\\User\\AppData\\Roaming\\nltk_data...\n",
      "[nltk_data]   Package wordnet is already up-to-date!\n",
      "[nltk_data] Downloading package stopwords to\n",
      "[nltk_data]     C:\\Users\\User\\AppData\\Roaming\\nltk_data...\n",
      "[nltk_data]   Package stopwords is already up-to-date!\n"
     ]
    },
    {
     "name": "stdout",
     "output_type": "stream",
     "text": [
      "Welcome to the Academic Assistant Chatbot! Ask about math, science, or programming. Type 'quit' to exit.\n"
     ]
    },
    {
     "name": "stdin",
     "output_type": "stream",
     "text": [
      "You:  quit\n"
     ]
    },
    {
     "name": "stdout",
     "output_type": "stream",
     "text": [
      "Goodbye! Happy learning!\n"
     ]
    }
   ],
   "source": [
    "import nltk\n",
    "from nltk.tokenize import word_tokenize\n",
    "from nltk.corpus import wordnet\n",
    "from nltk.stem import WordNetLemmatizer\n",
    "from nltk.corpus import stopwords\n",
    "from sklearn.feature_extraction.text import TfidfVectorizer\n",
    "from sklearn.metrics.pairwise import cosine_similarity\n",
    "import numpy as np\n",
    "import string\n",
    "\n",
    "# Download required NLTK data\n",
    "nltk.download('punkt')\n",
    "nltk.download('wordnet')\n",
    "nltk.download('stopwords')\n",
    "\n",
    "# Initialize lemmatizer and stopwords\n",
    "lemmatizer = WordNetLemmatizer()\n",
    "stop_words = set(stopwords.words('english'))\n",
    "\n",
    "# Knowledge base for academic assistance\n",
    "knowledge_base = {\n",
    "    \"math\": {\n",
    "        \"keywords\": [\"math\", \"mathematics\", \"algebra\", \"calculus\", \"equation\", \"solve\"],\n",
    "        \"questions\": [\n",
    "            (\"how to solve a quadratic equation\", \"A quadratic equation ax² + bx + c = 0 is solved using the formula x = [-b ± √(b² - 4ac)] / 2a. For example, for x² + 3x + 2 = 0, a=1, b=3, c=2, so x = [-3 ± √(9 - 8)] / 2 = [-3 ± 1] / 2, giving x = -1 or x = -2.\"),\n",
    "            (\"what is a derivative\", \"A derivative represents the rate of change of a function. For f(x) = x², the derivative is f'(x) = 2x, found using the power rule: d/dx(x^n) = nx^(n-1).\"),\n",
    "            (\"explain pythagorean theorem\", \"The Pythagorean theorem states that in a right triangle, a² + b² = c², where c is the hypotenuse. For example, if legs are 3 and 4, then c = √(3² + 4²) = √25 = 5.\")\n",
    "        ]\n",
    "    },\n",
    "    \"science\": {\n",
    "        \"keywords\": [\"science\", \"physics\", \"chemistry\", \"biology\", \"force\", \"atom\", \"cell\"],\n",
    "        \"questions\": [\n",
    "            (\"what is newton's first law\", \"Newton's First Law states that an object at rest stays at rest, and an object in motion stays in motion unless acted upon by an external force. For example, a book on a table remains stationary unless pushed.\"),\n",
    "            (\"what is photosynthesis\", \"Photosynthesis is the process by which plants use sunlight, water, and CO₂ to produce glucose and oxygen. The equation is 6CO₂ + 6H₂O → C₆H₁₂O₆ + 6O₂.\"),\n",
    "            (\"explain atomic structure\", \"An atom consists of a nucleus (protons and neutrons) and electrons orbiting it. For example, a carbon atom has 6 protons, 6 neutrons, and 6 electrons.\")\n",
    "        ]\n",
    "    },\n",
    "    \"programming\": {\n",
    "        \"keywords\": [\"programming\", \"code\", \"python\", \"java\", \"algorithm\", \"debug\"],\n",
    "        \"questions\": [\n",
    "            (\"how to write a python loop\", \"In Python, a for loop iterates over a sequence: `for i in range(5): print(i)` prints 0 to 4. A while loop runs until a condition is false: `x = 0; while x < 5: print(x); x += 1`.\"),\n",
    "            (\"what is a function in programming\", \"A function is a reusable block of code that performs a task. In Python, define it with `def`: e.g., `def add(a, b): return a + b` computes the sum of two numbers.\"),\n",
    "            (\"explain debugging\", \"Debugging is the process of finding and fixing errors in code. For example, in Python, use print statements or a debugger like pdb to trace variable values and identify issues.\")\n",
    "        ]\n",
    "    }\n",
    "}\n",
    "\n",
    "# Preprocess text: tokenize, lemmatize, remove stopwords and punctuation\n",
    "def preprocess_text(text):\n",
    "    tokens = word_tokenize(text.lower())\n",
    "    tokens = [token for token in tokens if token not in string.punctuation]\n",
    "    tokens = [token for token in tokens if token not in stop_words]\n",
    "    tokens = [lemmatizer.lemmatize(token) for token in tokens]\n",
    "    return ' '.join(tokens)\n",
    "\n",
    "# Get category based on keywords\n",
    "def get_category(user_input):\n",
    "    user_tokens = set(word_tokenize(user_input.lower()))\n",
    "    max_overlap = 0\n",
    "    best_category = None\n",
    "    for category, data in knowledge_base.items():\n",
    "        keywords = set(data[\"keywords\"])\n",
    "        overlap = len(user_tokens.intersection(keywords))\n",
    "        if overlap > max_overlap:\n",
    "            max_overlap = overlap\n",
    "            best_category = category\n",
    "    return best_category if max_overlap > 0 else None\n",
    "\n",
    "# Find best matching question using TF-IDF and cosine similarity\n",
    "def find_best_response(user_input, category):\n",
    "    if not category:\n",
    "        return \"Sorry, I couldn't identify the topic. Please clarify or ask about math, science, or programming.\"\n",
    "    \n",
    "    questions = [q[0] for q in knowledge_base[category][\"questions\"]]\n",
    "    responses = [q[1] for q in knowledge_base[category][\"questions\"]]\n",
    "    \n",
    "    # Preprocess user input and questions\n",
    "    processed_input = preprocess_text(user_input)\n",
    "    processed_questions = [preprocess_text(q) for q in questions]\n",
    "    \n",
    "    # Compute TF-IDF vectors\n",
    "    vectorizer = TfidfVectorizer()\n",
    "    tfidf_matrix = vectorizer.fit_transform([processed_input] + processed_questions)\n",
    "    \n",
    "    # Calculate cosine similarity\n",
    "    similarities = cosine_similarity(tfidf_matrix[0:1], tfidf_matrix[1:]).flatten()\n",
    "    best_match_idx = np.argmax(similarities)\n",
    "    \n",
    "    # Return response if similarity is above threshold\n",
    "    if similarities[best_match_idx] > 0.2:  # Adjustable threshold for ~90% accuracy\n",
    "        return responses[best_match_idx]\n",
    "    return f\"I understood you're asking about {category}, but I need more details. Could you rephrase your question?\"\n",
    "\n",
    "# Main chatbot function\n",
    "def chatbot():\n",
    "    print(\"Welcome to the Academic Assistant Chatbot! Ask about math, science, or programming. Type 'quit' to exit.\")\n",
    "    while True:\n",
    "        user_input = input(\"You: \")\n",
    "        if user_input.lower() == 'quit':\n",
    "            print(\"Goodbye! Happy learning!\")\n",
    "            break\n",
    "        \n",
    "        category = get_category(user_input)\n",
    "        response = find_best_response(user_input, category)\n",
    "        print(f\"Bot: {response}\")\n",
    "\n",
    "# Run the chatbot\n",
    "if __name__ == \"__main__\":\n",
    "    chatbot()"
   ]
  },
  {
   "cell_type": "code",
   "execution_count": null,
   "id": "b1c17177-3df6-4ba9-ba34-54a5ec7ff760",
   "metadata": {},
   "outputs": [],
   "source": []
  }
 ],
 "metadata": {
  "kernelspec": {
   "display_name": "Python [conda env:base] *",
   "language": "python",
   "name": "conda-base-py"
  },
  "language_info": {
   "codemirror_mode": {
    "name": "ipython",
    "version": 3
   },
   "file_extension": ".py",
   "mimetype": "text/x-python",
   "name": "python",
   "nbconvert_exporter": "python",
   "pygments_lexer": "ipython3",
   "version": "3.12.7"
  }
 },
 "nbformat": 4,
 "nbformat_minor": 5
}
